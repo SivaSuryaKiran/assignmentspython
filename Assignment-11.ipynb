{
 "cells": [
  {
   "cell_type": "markdown",
   "id": "ab68864c",
   "metadata": {},
   "source": [
    "1.A)   \n",
    "assert(spam < 0, 'The spam variable is negative.')"
   ]
  },
  {
   "cell_type": "markdown",
   "id": "47d844b5",
   "metadata": {},
   "source": [
    "2.A)  \n",
    "assert(eggs.lower() !=bacon.lower(), 'The eggs and bacon variables are the same')\n",
    "assert(eggs.upper() !=bacon.upper(), 'The eggs and bacon variables are the same')"
   ]
  },
  {
   "cell_type": "markdown",
   "id": "d851f6cb",
   "metadata": {},
   "source": [
    "3.A)  \n",
    "assert(False, 'This assertion triggers always.')"
   ]
  },
  {
   "cell_type": "markdown",
   "id": "9dca918e",
   "metadata": {},
   "source": [
    "4.A)  \n",
    "import logging\n",
    "logging.basicConfig(level=logging.DEBUG, format=' %(asctime)s ,%(levelname)s ,%(message)s')"
   ]
  },
  {
   "cell_type": "markdown",
   "id": "ea6d9cd0",
   "metadata": {},
   "source": [
    "5.A)  \n",
    "import logging\n",
    "logging.basicConfig(filename='programLog.txt', level=logging.DEBUG,format='%(name)s, %(asctime)s,%(levelname)s,%(message)s')"
   ]
  },
  {
   "cell_type": "markdown",
   "id": "14141783",
   "metadata": {},
   "source": [
    "6.A)  \n",
    " the five levels of logging are DEBUG, INFO, WARNING, ERROR, and CRITICAL"
   ]
  },
  {
   "cell_type": "markdown",
   "id": "21adf036",
   "metadata": {},
   "source": [
    "7.A) \n",
    "logging.disable(logging.CRITICAL)"
   ]
  },
  {
   "cell_type": "markdown",
   "id": "640d1281",
   "metadata": {},
   "source": [
    "8.A)  \n",
    "we can disable logging messages without removing the logging function calls. we can disable lower level logging messages. we can create logging messages. Logging messages provides a timestamp."
   ]
  },
  {
   "cell_type": "markdown",
   "id": "57e51337",
   "metadata": {},
   "source": [
    "9.A)   \n",
    "The Step button will move the debugger into a function call. The Over button will quickly execute the function call without stepping into it. The Out button will quickly execute the rest of the code until it steps out of the function it currently is in."
   ]
  },
  {
   "cell_type": "markdown",
   "id": "808c7fe3",
   "metadata": {},
   "source": [
    "10.A)  \n",
    "After clicking the  Go, the debugger will stop when it has reached the end of the program"
   ]
  },
  {
   "cell_type": "markdown",
   "id": "0efe69f6",
   "metadata": {},
   "source": [
    "11.A)  \n",
    "A breakpoint is a setting of code that causes the debugger to pause when the program execution reaches the line."
   ]
  }
 ],
 "metadata": {
  "kernelspec": {
   "display_name": "Python 3 (ipykernel)",
   "language": "python",
   "name": "python3"
  },
  "language_info": {
   "codemirror_mode": {
    "name": "ipython",
    "version": 3
   },
   "file_extension": ".py",
   "mimetype": "text/x-python",
   "name": "python",
   "nbconvert_exporter": "python",
   "pygments_lexer": "ipython3",
   "version": "3.9.12"
  }
 },
 "nbformat": 4,
 "nbformat_minor": 5
}
