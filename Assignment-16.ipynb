{
 "cells": [
  {
   "cell_type": "code",
   "execution_count": 1,
   "id": "e33f00e9",
   "metadata": {},
   "outputs": [],
   "source": [
    "year_list=[2002,2003,2004,2005,2006,2007]"
   ]
  },
  {
   "cell_type": "code",
   "execution_count": 2,
   "id": "13df4e5a",
   "metadata": {},
   "outputs": [
    {
     "data": {
      "text/plain": [
       "2005"
      ]
     },
     "execution_count": 2,
     "metadata": {},
     "output_type": "execute_result"
    }
   ],
   "source": [
    "year_list[3]"
   ]
  },
  {
   "cell_type": "code",
   "execution_count": 4,
   "id": "d678bd88",
   "metadata": {},
   "outputs": [
    {
     "data": {
      "text/plain": [
       "2007"
      ]
     },
     "execution_count": 4,
     "metadata": {},
     "output_type": "execute_result"
    }
   ],
   "source": [
    "year_list[-1]"
   ]
  },
  {
   "cell_type": "code",
   "execution_count": 20,
   "id": "a096de87",
   "metadata": {},
   "outputs": [],
   "source": [
    "things = ['mozzarella','cinderella','salmonella']"
   ]
  },
  {
   "cell_type": "code",
   "execution_count": 21,
   "id": "1a32c9a5",
   "metadata": {},
   "outputs": [
    {
     "name": "stdout",
     "output_type": "stream",
     "text": [
      "['Mozzarella', 'Cinderella', 'Salmonella']\n"
     ]
    }
   ],
   "source": [
    "person=[names.capitalize() for names in things]\n",
    "print(person)"
   ]
  },
  {
   "cell_type": "code",
   "execution_count": 23,
   "id": "97480a5e",
   "metadata": {},
   "outputs": [],
   "source": [
    "surprise_list=['Groucho','Chico','Harpo']"
   ]
  },
  {
   "cell_type": "code",
   "execution_count": 24,
   "id": "fd6d08c2",
   "metadata": {},
   "outputs": [
    {
     "data": {
      "text/plain": [
       "'harpo'"
      ]
     },
     "execution_count": 24,
     "metadata": {},
     "output_type": "execute_result"
    }
   ],
   "source": [
    "surprise_list[-1].lower()"
   ]
  },
  {
   "cell_type": "code",
   "execution_count": 25,
   "id": "7a311c98",
   "metadata": {},
   "outputs": [
    {
     "data": {
      "text/plain": [
       "'Harpo'"
      ]
     },
     "execution_count": 25,
     "metadata": {},
     "output_type": "execute_result"
    }
   ],
   "source": [
    "surprise_list[-1].capitalize()"
   ]
  },
  {
   "cell_type": "code",
   "execution_count": 31,
   "id": "96eeccd6",
   "metadata": {},
   "outputs": [
    {
     "data": {
      "text/plain": [
       "'opraH'"
      ]
     },
     "execution_count": 31,
     "metadata": {},
     "output_type": "execute_result"
    }
   ],
   "source": [
    "surprise_list[-1][::-1]"
   ]
  },
  {
   "cell_type": "code",
   "execution_count": 32,
   "id": "af1b1414",
   "metadata": {},
   "outputs": [],
   "source": [
    "e2f={'dog':'chien','cat':'chat','walrus':'morse'}"
   ]
  },
  {
   "cell_type": "code",
   "execution_count": 33,
   "id": "27fd7f42",
   "metadata": {},
   "outputs": [
    {
     "data": {
      "text/plain": [
       "'morse'"
      ]
     },
     "execution_count": 33,
     "metadata": {},
     "output_type": "execute_result"
    }
   ],
   "source": [
    "e2f['walrus']"
   ]
  },
  {
   "cell_type": "code",
   "execution_count": 34,
   "id": "0b2eb381",
   "metadata": {},
   "outputs": [],
   "source": [
    "f2e={'chien':'dog','chat':'cat','morse':'walrus'}"
   ]
  },
  {
   "cell_type": "code",
   "execution_count": 35,
   "id": "51044a30",
   "metadata": {},
   "outputs": [
    {
     "data": {
      "text/plain": [
       "'dog'"
      ]
     },
     "execution_count": 35,
     "metadata": {},
     "output_type": "execute_result"
    }
   ],
   "source": [
    "f2e['chien']"
   ]
  },
  {
   "cell_type": "code",
   "execution_count": 36,
   "id": "957ad08d",
   "metadata": {},
   "outputs": [
    {
     "data": {
      "text/plain": [
       "dict_keys(['dog', 'cat', 'walrus'])"
      ]
     },
     "execution_count": 36,
     "metadata": {},
     "output_type": "execute_result"
    }
   ],
   "source": [
    "e2f.keys()"
   ]
  },
  {
   "cell_type": "code",
   "execution_count": 37,
   "id": "bcd8dece",
   "metadata": {},
   "outputs": [],
   "source": [
    "life={'animals':{'cats':['Henri','Grumpy','Lucy'],'octopi':{},'emus':{} },'plants':{},'other':{}}"
   ]
  },
  {
   "cell_type": "code",
   "execution_count": 38,
   "id": "5d57893d",
   "metadata": {},
   "outputs": [
    {
     "data": {
      "text/plain": [
       "dict_keys(['animals', 'plants', 'other'])"
      ]
     },
     "execution_count": 38,
     "metadata": {},
     "output_type": "execute_result"
    }
   ],
   "source": [
    "life.keys()"
   ]
  },
  {
   "cell_type": "code",
   "execution_count": 39,
   "id": "de086f55",
   "metadata": {},
   "outputs": [
    {
     "data": {
      "text/plain": [
       "dict_keys(['cats', 'octopi', 'emus'])"
      ]
     },
     "execution_count": 39,
     "metadata": {},
     "output_type": "execute_result"
    }
   ],
   "source": [
    "life['animals'].keys()"
   ]
  },
  {
   "cell_type": "code",
   "execution_count": 41,
   "id": "9ef3d37a",
   "metadata": {},
   "outputs": [
    {
     "data": {
      "text/plain": [
       "['Henri', 'Grumpy', 'Lucy']"
      ]
     },
     "execution_count": 41,
     "metadata": {},
     "output_type": "execute_result"
    }
   ],
   "source": [
    "life['animals']['cats']"
   ]
  }
 ],
 "metadata": {
  "kernelspec": {
   "display_name": "Python 3 (ipykernel)",
   "language": "python",
   "name": "python3"
  },
  "language_info": {
   "codemirror_mode": {
    "name": "ipython",
    "version": 3
   },
   "file_extension": ".py",
   "mimetype": "text/x-python",
   "name": "python",
   "nbconvert_exporter": "python",
   "pygments_lexer": "ipython3",
   "version": "3.9.12"
  }
 },
 "nbformat": 4,
 "nbformat_minor": 5
}
