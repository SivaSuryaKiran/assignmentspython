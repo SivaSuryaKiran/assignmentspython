{
 "cells": [
  {
   "cell_type": "markdown",
   "id": "9bcaf1b2",
   "metadata": {},
   "source": [
    "# programming_assignment-5"
   ]
  },
  {
   "cell_type": "markdown",
   "id": "99b02ae1",
   "metadata": {},
   "source": [
    "1. Write a Python Program to Find LCM?"
   ]
  },
  {
   "cell_type": "code",
   "execution_count": 1,
   "id": "5785826e",
   "metadata": {},
   "outputs": [
    {
     "name": "stdout",
     "output_type": "stream",
     "text": [
      "Enter first number: 10\n",
      "Enter second number: 5\n",
      "The L.C.M. of 10 and 5 is 10\n"
     ]
    }
   ],
   "source": [
    "### Ans)    \n",
    "num1 = int(input(\"Enter first number: \"))  \n",
    "num2 = int(input(\"Enter second number: \")) \n",
    "def calculate_lcm(x, y):\n",
    "    if x > y:  \n",
    "        greater = x  \n",
    "    else:  \n",
    "        greater = y  \n",
    "    while(True):  \n",
    "        if((greater % x == 0) and (greater % y == 0)):  \n",
    "            lcm = greater  \n",
    "            break  \n",
    "        greater += 1  \n",
    "    return lcm     \n",
    "print(\"The L.C.M. of\", num1,\"and\", num2,\"is\", calculate_lcm(num1, num2))  "
   ]
  },
  {
   "cell_type": "markdown",
   "id": "315a36a5",
   "metadata": {},
   "source": [
    "2. Write a Python Program to Find HCF?"
   ]
  },
  {
   "cell_type": "code",
   "execution_count": 2,
   "id": "d5043fb4",
   "metadata": {},
   "outputs": [
    {
     "name": "stdout",
     "output_type": "stream",
     "text": [
      "Enter first number: 10\n",
      "Enter second number: 5\n",
      "The H.C.F. of 10 and 5 is 5\n"
     ]
    }
   ],
   "source": [
    "num1 = int(input(\"Enter first number: \"))  \n",
    "num2 = int(input(\"Enter second number: \")) \n",
    "def calculate_hcf(x, y):  \n",
    "    if x > y:  \n",
    "        smaller = y  \n",
    "    else:  \n",
    "        smaller = x  \n",
    "    for i in range(1,smaller + 1):  \n",
    "        if((x % i == 0) and (y % i == 0)):  \n",
    "            hcf = i  \n",
    "    return hcf   \n",
    "print(\"The H.C.F. of\", num1,\"and\", num2,\"is\", calculate_hcf(num1, num2))  "
   ]
  },
  {
   "cell_type": "markdown",
   "id": "161f9448",
   "metadata": {},
   "source": [
    "3. Write a Python Program to Convert Decimal to Binary, Octal and Hexadecimal?"
   ]
  },
  {
   "cell_type": "code",
   "execution_count": 3,
   "id": "32ec6ac5",
   "metadata": {},
   "outputs": [
    {
     "name": "stdout",
     "output_type": "stream",
     "text": [
      " Enter the Decimal Number: 10\n",
      "The given decimal number 10 in Binary number is:  0b1010\n",
      "The given decimal number 10 in Octal number is:  0o12\n",
      "The given decimal number 10  in Hexadecimal number is:  0xa\n"
     ]
    }
   ],
   "source": [
    "def decimal_into_binary(decimal_1):  \n",
    "    decimal = int(decimal_1)  \n",
    "    print (\"The given decimal number\", decimal, \"in Binary number is: \", bin(decimal))  \n",
    "def decimal_into_octal(decimal_1):  \n",
    "    decimal = int(decimal_1)  \n",
    "    print (\"The given decimal number\", decimal, \"in Octal number is: \", oct(decimal))   \n",
    "def decimal_into_hexadecimal(decimal_1):  \n",
    "    decimal = int(decimal_1)   \n",
    "    print (\"The given decimal number\", decimal, \" in Hexadecimal number is: \", hex(decimal))  \n",
    "decimal_1 = int (input (\" Enter the Decimal Number: \"))  \n",
    "decimal_into_binary(decimal_1)  \n",
    "decimal_into_octal(decimal_1)  \n",
    "decimal_into_hexadecimal(decimal_1)"
   ]
  },
  {
   "cell_type": "markdown",
   "id": "a5a88f5d",
   "metadata": {},
   "source": [
    "4. Write a Python Program To Find ASCII value of a character?"
   ]
  },
  {
   "cell_type": "code",
   "execution_count": 4,
   "id": "3cf5fb6f",
   "metadata": {},
   "outputs": [
    {
     "name": "stdout",
     "output_type": "stream",
     "text": [
      "Please enter a character: A\n",
      "The ASCII value of 'A' is  65\n"
     ]
    }
   ],
   "source": [
    "K = input(\"Please enter a character: \")    \n",
    "print (\"The ASCII value of '\" + K + \"' is \", ord(K))  "
   ]
  },
  {
   "cell_type": "markdown",
   "id": "7f48a393",
   "metadata": {},
   "source": [
    "5. Write a Python Program to Make a Simple Calculator with 4 basic mathematical operations?"
   ]
  },
  {
   "cell_type": "code",
   "execution_count": 5,
   "id": "bd533e16",
   "metadata": {},
   "outputs": [],
   "source": [
    "def add():\n",
    "    a = float(input(\"enter a value :\" ))\n",
    "    b = float(input(\"enter b value :\" ))\n",
    "    c = a+b\n",
    "    print(c)\n",
    "def subtract():\n",
    "    a = float(input(\"enter a value :\" ))\n",
    "    b = float(input(\"enter b value :\" ))\n",
    "    c = a-b\n",
    "    print(c)\n",
    "def multiply():\n",
    "    a = float(input(\"enter a value :\" ))\n",
    "    b = float(input(\"enter b value :\" ))\n",
    "    c = a*b\n",
    "    print(c)\n",
    "def divide():\n",
    "    a = float(input(\"enter a value :\" ))\n",
    "    b = float(input(\"enter b value :\" ))\n",
    "    c = a/b\n",
    "    print(c)"
   ]
  },
  {
   "cell_type": "code",
   "execution_count": 6,
   "id": "c1ed125f",
   "metadata": {},
   "outputs": [
    {
     "name": "stdout",
     "output_type": "stream",
     "text": [
      "enter a value :1\n",
      "enter b value :2\n",
      "3.0\n"
     ]
    }
   ],
   "source": [
    "add()"
   ]
  },
  {
   "cell_type": "code",
   "execution_count": 7,
   "id": "93b78c18",
   "metadata": {},
   "outputs": [
    {
     "name": "stdout",
     "output_type": "stream",
     "text": [
      "enter a value :5\n",
      "enter b value :2\n",
      "3.0\n"
     ]
    }
   ],
   "source": [
    "subtract()"
   ]
  },
  {
   "cell_type": "code",
   "execution_count": 8,
   "id": "012e52cb",
   "metadata": {},
   "outputs": [
    {
     "name": "stdout",
     "output_type": "stream",
     "text": [
      "enter a value :5\n",
      "enter b value :4\n",
      "20.0\n"
     ]
    }
   ],
   "source": [
    "multiply()"
   ]
  },
  {
   "cell_type": "code",
   "execution_count": 9,
   "id": "deac6629",
   "metadata": {},
   "outputs": [
    {
     "name": "stdout",
     "output_type": "stream",
     "text": [
      "enter a value :10\n",
      "enter b value :5\n",
      "2.0\n"
     ]
    }
   ],
   "source": [
    "divide()"
   ]
  }
 ],
 "metadata": {
  "kernelspec": {
   "display_name": "Python 3 (ipykernel)",
   "language": "python",
   "name": "python3"
  },
  "language_info": {
   "codemirror_mode": {
    "name": "ipython",
    "version": 3
   },
   "file_extension": ".py",
   "mimetype": "text/x-python",
   "name": "python",
   "nbconvert_exporter": "python",
   "pygments_lexer": "ipython3",
   "version": "3.9.12"
  }
 },
 "nbformat": 4,
 "nbformat_minor": 5
}
