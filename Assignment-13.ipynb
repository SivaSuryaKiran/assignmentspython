{
 "cells": [
  {
   "cell_type": "markdown",
   "id": "b2f8bfb2",
   "metadata": {},
   "source": [
    "# Assignmet-13"
   ]
  },
  {
   "cell_type": "markdown",
   "id": "c119aef0",
   "metadata": {},
   "source": [
    "1.A)  \n",
    "Excel is more superior when compared with the CSV file format.And in excel we can manipulate data and we can do some mathematical operations easily"
   ]
  },
  {
   "cell_type": "markdown",
   "id": "0b59779b",
   "metadata": {},
   "source": [
    "2.A)  \n",
    "we first open the CSV file in READ mode,next we name the file object and later we pass the file object into csv.reader()    \n",
    "we first open the CSV file in WRITE mode.next we name the file object and later we pass the file object into csv.writer()"
   ]
  },
  {
   "cell_type": "markdown",
   "id": "39fd0a04",
   "metadata": {},
   "source": [
    "3.A)  \n",
    "'r' mode for reader a file   \n",
    "'w' mode for writing a file "
   ]
  },
  {
   "cell_type": "markdown",
   "id": "b00d76e2",
   "metadata": {},
   "source": [
    "4.A)  \n",
    "writerows() takes a list argument and writes it to a CSV file"
   ]
  },
  {
   "cell_type": "markdown",
   "id": "38b88908",
   "metadata": {},
   "source": [
    "5.A)  \n",
    "The delimiter is the character that appears between cells on a row.  \n",
    "The line terminator is the character that comes at the end of a row. By default, the line terminator is a newline.    "
   ]
  },
  {
   "cell_type": "markdown",
   "id": "0c785132",
   "metadata": {},
   "source": [
    "6.A)  \n",
    "json.loads() method return Python data structure of JSON string or data"
   ]
  },
  {
   "cell_type": "markdown",
   "id": "9b511d46",
   "metadata": {},
   "source": [
    "7.A)  \n",
    "json.dumps() method return json string to python data structure"
   ]
  }
 ],
 "metadata": {
  "kernelspec": {
   "display_name": "Python 3 (ipykernel)",
   "language": "python",
   "name": "python3"
  },
  "language_info": {
   "codemirror_mode": {
    "name": "ipython",
    "version": 3
   },
   "file_extension": ".py",
   "mimetype": "text/x-python",
   "name": "python",
   "nbconvert_exporter": "python",
   "pygments_lexer": "ipython3",
   "version": "3.9.12"
  }
 },
 "nbformat": 4,
 "nbformat_minor": 5
}
